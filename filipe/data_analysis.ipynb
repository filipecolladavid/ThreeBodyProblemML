{
 "cells": [
  {
   "cell_type": "markdown",
   "metadata": {},
   "source": [
    "# Data analysis for Three Body Problem"
   ]
  },
  {
   "cell_type": "code",
   "execution_count": 3,
   "metadata": {},
   "outputs": [],
   "source": [
    "import numpy as np\n",
    "import pandas as pd\n",
    "import matplotlib.pyplot as plt\n"
   ]
  },
  {
   "cell_type": "markdown",
   "metadata": {},
   "source": [
    "## Information about the dataset\n",
    "Train data: <br>\n",
    "| Variable  | Description                                      |\n",
    "|-----------|--------------------------------------------------|\n",
    "| `t`       | timestep                                         |\n",
    "| `x_1`     | coordinate x of the position of object 1         |\n",
    "| `y_1`     | coordinate y of the position of object 1         |\n",
    "| `v_x_1`   | coordinate x of the velocity of object 1         |\n",
    "| `v_y_1`   | coordinate y of the velocity of object 1         |\n",
    "| `x_2`     | coordinate x of the position of object 2         |\n",
    "| `y_2`     | coordinate y of the position of object 2         |\n",
    "| `v_x_2`   | coordinate x of the velocity of object 2         |\n",
    "| `v_y_2`   | coordinate y of the velocity of object 2         |\n",
    "| `x_3`     | coordinate x of the position of object 3         |\n",
    "| `y_3`     | coordinate y of the position of object 3         |\n",
    "| `v_x_3`   | coordinate x of the velocity of object 3         |\n",
    "| `v_y_3`   | coordinate y of the velocity of object 3         |\n",
    "\n",
    "Test data:<br>\n",
    "\n",
    "| Variable  | Description                                                    |\n",
    "|-----------|----------------------------------------------------------------|\n",
    "| `t`       | timestep                                                       |\n",
    "| `x0_1`    | coordinate x of the position of object 1 at time t=0           |\n",
    "| `y0_1`    | coordinate y of the position of object 1 at time t=0           |\n",
    "| `x0_2`    | coordinate x of the position of object 2 at time t=0           |\n",
    "| `y0_2`    | coordinate y of the position of object 2 at time t=0           |\n",
    "| `x0_3`    | coordinate x of the position of object 3 at time t=0           |\n",
    "| `y0_3`    | coordinate y of the position of object 3 at time t=0           |\n",
    "\n",
    "For the test data, we only have the initial positions, and we assume that the initial velocity is zero"
   ]
  },
  {
   "cell_type": "markdown",
   "metadata": {},
   "source": [
    "## Import the data"
   ]
  },
  {
   "cell_type": "code",
   "execution_count": 21,
   "metadata": {},
   "outputs": [],
   "source": [
    "# Pandas csv will look in the current directory.\n",
    "df = pd.read_csv(\"../data/mlNOVA/mlNOVA/X_train.csv\")"
   ]
  },
  {
   "cell_type": "markdown",
   "metadata": {},
   "source": [
    "## Data Stats"
   ]
  },
  {
   "cell_type": "code",
   "execution_count": 22,
   "metadata": {},
   "outputs": [
    {
     "data": {
      "text/html": [
       "<div>\n",
       "<style scoped>\n",
       "    .dataframe tbody tr th:only-of-type {\n",
       "        vertical-align: middle;\n",
       "    }\n",
       "\n",
       "    .dataframe tbody tr th {\n",
       "        vertical-align: top;\n",
       "    }\n",
       "\n",
       "    .dataframe thead th {\n",
       "        text-align: right;\n",
       "    }\n",
       "</style>\n",
       "<table border=\"1\" class=\"dataframe\">\n",
       "  <thead>\n",
       "    <tr style=\"text-align: right;\">\n",
       "      <th></th>\n",
       "      <th>t</th>\n",
       "      <th>x_1</th>\n",
       "      <th>y_1</th>\n",
       "      <th>v_x_1</th>\n",
       "      <th>v_y_1</th>\n",
       "      <th>x_2</th>\n",
       "      <th>y_2</th>\n",
       "      <th>v_x_2</th>\n",
       "      <th>v_y_2</th>\n",
       "      <th>x_3</th>\n",
       "      <th>y_3</th>\n",
       "      <th>v_x_3</th>\n",
       "      <th>v_y_3</th>\n",
       "      <th>Id</th>\n",
       "    </tr>\n",
       "  </thead>\n",
       "  <tbody>\n",
       "    <tr>\n",
       "      <th>0</th>\n",
       "      <td>0.000000</td>\n",
       "      <td>1.000000</td>\n",
       "      <td>0.000000</td>\n",
       "      <td>0.000000</td>\n",
       "      <td>0.000000</td>\n",
       "      <td>-0.266467</td>\n",
       "      <td>0.859196</td>\n",
       "      <td>0.000000</td>\n",
       "      <td>0.000000</td>\n",
       "      <td>-0.733533</td>\n",
       "      <td>-0.859196</td>\n",
       "      <td>0.000000</td>\n",
       "      <td>0.000000</td>\n",
       "      <td>0</td>\n",
       "    </tr>\n",
       "    <tr>\n",
       "      <th>1</th>\n",
       "      <td>0.039062</td>\n",
       "      <td>0.999548</td>\n",
       "      <td>0.000092</td>\n",
       "      <td>-0.023159</td>\n",
       "      <td>0.004731</td>\n",
       "      <td>-0.266261</td>\n",
       "      <td>0.858781</td>\n",
       "      <td>0.010574</td>\n",
       "      <td>-0.021257</td>\n",
       "      <td>-0.733287</td>\n",
       "      <td>-0.858874</td>\n",
       "      <td>0.012584</td>\n",
       "      <td>0.016526</td>\n",
       "      <td>1</td>\n",
       "    </tr>\n",
       "    <tr>\n",
       "      <th>2</th>\n",
       "      <td>0.078125</td>\n",
       "      <td>0.998190</td>\n",
       "      <td>0.000370</td>\n",
       "      <td>-0.046362</td>\n",
       "      <td>0.009474</td>\n",
       "      <td>-0.265641</td>\n",
       "      <td>0.857535</td>\n",
       "      <td>0.021172</td>\n",
       "      <td>-0.042552</td>\n",
       "      <td>-0.732549</td>\n",
       "      <td>-0.857905</td>\n",
       "      <td>0.025189</td>\n",
       "      <td>0.033078</td>\n",
       "      <td>2</td>\n",
       "    </tr>\n",
       "    <tr>\n",
       "      <th>3</th>\n",
       "      <td>0.117188</td>\n",
       "      <td>0.995925</td>\n",
       "      <td>0.000833</td>\n",
       "      <td>-0.069654</td>\n",
       "      <td>0.014239</td>\n",
       "      <td>-0.264606</td>\n",
       "      <td>0.855456</td>\n",
       "      <td>0.031817</td>\n",
       "      <td>-0.063924</td>\n",
       "      <td>-0.731318</td>\n",
       "      <td>-0.856289</td>\n",
       "      <td>0.037837</td>\n",
       "      <td>0.049685</td>\n",
       "      <td>3</td>\n",
       "    </tr>\n",
       "    <tr>\n",
       "      <th>4</th>\n",
       "      <td>0.156250</td>\n",
       "      <td>0.992747</td>\n",
       "      <td>0.001483</td>\n",
       "      <td>-0.093080</td>\n",
       "      <td>0.019040</td>\n",
       "      <td>-0.263154</td>\n",
       "      <td>0.852540</td>\n",
       "      <td>0.042533</td>\n",
       "      <td>-0.085412</td>\n",
       "      <td>-0.729592</td>\n",
       "      <td>-0.854022</td>\n",
       "      <td>0.050548</td>\n",
       "      <td>0.066372</td>\n",
       "      <td>4</td>\n",
       "    </tr>\n",
       "  </tbody>\n",
       "</table>\n",
       "</div>"
      ],
      "text/plain": [
       "          t       x_1       y_1     v_x_1     v_y_1       x_2       y_2  \\\n",
       "0  0.000000  1.000000  0.000000  0.000000  0.000000 -0.266467  0.859196   \n",
       "1  0.039062  0.999548  0.000092 -0.023159  0.004731 -0.266261  0.858781   \n",
       "2  0.078125  0.998190  0.000370 -0.046362  0.009474 -0.265641  0.857535   \n",
       "3  0.117188  0.995925  0.000833 -0.069654  0.014239 -0.264606  0.855456   \n",
       "4  0.156250  0.992747  0.001483 -0.093080  0.019040 -0.263154  0.852540   \n",
       "\n",
       "      v_x_2     v_y_2       x_3       y_3     v_x_3     v_y_3  Id  \n",
       "0  0.000000  0.000000 -0.733533 -0.859196  0.000000  0.000000   0  \n",
       "1  0.010574 -0.021257 -0.733287 -0.858874  0.012584  0.016526   1  \n",
       "2  0.021172 -0.042552 -0.732549 -0.857905  0.025189  0.033078   2  \n",
       "3  0.031817 -0.063924 -0.731318 -0.856289  0.037837  0.049685   3  \n",
       "4  0.042533 -0.085412 -0.729592 -0.854022  0.050548  0.066372   4  "
      ]
     },
     "execution_count": 22,
     "metadata": {},
     "output_type": "execute_result"
    }
   ],
   "source": [
    "df.head()"
   ]
  },
  {
   "cell_type": "code",
   "execution_count": 23,
   "metadata": {},
   "outputs": [
    {
     "data": {
      "text/html": [
       "<div>\n",
       "<style scoped>\n",
       "    .dataframe tbody tr th:only-of-type {\n",
       "        vertical-align: middle;\n",
       "    }\n",
       "\n",
       "    .dataframe tbody tr th {\n",
       "        vertical-align: top;\n",
       "    }\n",
       "\n",
       "    .dataframe thead th {\n",
       "        text-align: right;\n",
       "    }\n",
       "</style>\n",
       "<table border=\"1\" class=\"dataframe\">\n",
       "  <thead>\n",
       "    <tr style=\"text-align: right;\">\n",
       "      <th></th>\n",
       "      <th>t</th>\n",
       "      <th>x_1</th>\n",
       "      <th>y_1</th>\n",
       "      <th>v_x_1</th>\n",
       "      <th>v_y_1</th>\n",
       "      <th>x_2</th>\n",
       "      <th>y_2</th>\n",
       "      <th>v_x_2</th>\n",
       "      <th>v_y_2</th>\n",
       "      <th>x_3</th>\n",
       "      <th>y_3</th>\n",
       "      <th>v_x_3</th>\n",
       "      <th>v_y_3</th>\n",
       "      <th>Id</th>\n",
       "    </tr>\n",
       "  </thead>\n",
       "  <tbody>\n",
       "    <tr>\n",
       "      <th>1284995</th>\n",
       "      <td>9.84375</td>\n",
       "      <td>-0.022787</td>\n",
       "      <td>-0.354678</td>\n",
       "      <td>-1.450539</td>\n",
       "      <td>-0.511101</td>\n",
       "      <td>-0.128897</td>\n",
       "      <td>-0.618452</td>\n",
       "      <td>1.066492</td>\n",
       "      <td>-0.497032</td>\n",
       "      <td>0.151684</td>\n",
       "      <td>0.973131</td>\n",
       "      <td>0.384048</td>\n",
       "      <td>1.008133</td>\n",
       "      <td>1284995</td>\n",
       "    </tr>\n",
       "    <tr>\n",
       "      <th>1284996</th>\n",
       "      <td>9.88281</td>\n",
       "      <td>-0.082072</td>\n",
       "      <td>-0.384254</td>\n",
       "      <td>-1.556362</td>\n",
       "      <td>-1.038875</td>\n",
       "      <td>-0.084507</td>\n",
       "      <td>-0.627569</td>\n",
       "      <td>1.177829</td>\n",
       "      <td>0.065469</td>\n",
       "      <td>0.166578</td>\n",
       "      <td>1.011822</td>\n",
       "      <td>0.378533</td>\n",
       "      <td>0.973406</td>\n",
       "      <td>1284996</td>\n",
       "    </tr>\n",
       "    <tr>\n",
       "      <th>1284997</th>\n",
       "      <td>9.92188</td>\n",
       "      <td>-0.140434</td>\n",
       "      <td>-0.438907</td>\n",
       "      <td>-1.348462</td>\n",
       "      <td>-1.794786</td>\n",
       "      <td>-0.040823</td>\n",
       "      <td>-0.610311</td>\n",
       "      <td>0.975436</td>\n",
       "      <td>0.853069</td>\n",
       "      <td>0.181257</td>\n",
       "      <td>1.049218</td>\n",
       "      <td>0.373027</td>\n",
       "      <td>0.941717</td>\n",
       "      <td>1284997</td>\n",
       "    </tr>\n",
       "    <tr>\n",
       "      <th>1284998</th>\n",
       "      <td>9.96094</td>\n",
       "      <td>-0.177344</td>\n",
       "      <td>-0.524277</td>\n",
       "      <td>-0.380080</td>\n",
       "      <td>-2.492241</td>\n",
       "      <td>-0.018380</td>\n",
       "      <td>-0.561151</td>\n",
       "      <td>0.012292</td>\n",
       "      <td>1.579595</td>\n",
       "      <td>0.195724</td>\n",
       "      <td>1.085428</td>\n",
       "      <td>0.367788</td>\n",
       "      <td>0.912645</td>\n",
       "      <td>1284998</td>\n",
       "    </tr>\n",
       "    <tr>\n",
       "      <th>1284999</th>\n",
       "      <td>10.00000</td>\n",
       "      <td>-0.163264</td>\n",
       "      <td>-0.618197</td>\n",
       "      <td>1.029575</td>\n",
       "      <td>-2.079003</td>\n",
       "      <td>-0.046730</td>\n",
       "      <td>-0.502346</td>\n",
       "      <td>-1.392434</td>\n",
       "      <td>1.193499</td>\n",
       "      <td>0.209994</td>\n",
       "      <td>1.120543</td>\n",
       "      <td>0.362860</td>\n",
       "      <td>0.885505</td>\n",
       "      <td>1284999</td>\n",
       "    </tr>\n",
       "  </tbody>\n",
       "</table>\n",
       "</div>"
      ],
      "text/plain": [
       "                t       x_1       y_1     v_x_1     v_y_1       x_2       y_2  \\\n",
       "1284995   9.84375 -0.022787 -0.354678 -1.450539 -0.511101 -0.128897 -0.618452   \n",
       "1284996   9.88281 -0.082072 -0.384254 -1.556362 -1.038875 -0.084507 -0.627569   \n",
       "1284997   9.92188 -0.140434 -0.438907 -1.348462 -1.794786 -0.040823 -0.610311   \n",
       "1284998   9.96094 -0.177344 -0.524277 -0.380080 -2.492241 -0.018380 -0.561151   \n",
       "1284999  10.00000 -0.163264 -0.618197  1.029575 -2.079003 -0.046730 -0.502346   \n",
       "\n",
       "            v_x_2     v_y_2       x_3       y_3     v_x_3     v_y_3       Id  \n",
       "1284995  1.066492 -0.497032  0.151684  0.973131  0.384048  1.008133  1284995  \n",
       "1284996  1.177829  0.065469  0.166578  1.011822  0.378533  0.973406  1284996  \n",
       "1284997  0.975436  0.853069  0.181257  1.049218  0.373027  0.941717  1284997  \n",
       "1284998  0.012292  1.579595  0.195724  1.085428  0.367788  0.912645  1284998  \n",
       "1284999 -1.392434  1.193499  0.209994  1.120543  0.362860  0.885505  1284999  "
      ]
     },
     "execution_count": 23,
     "metadata": {},
     "output_type": "execute_result"
    }
   ],
   "source": [
    "df.tail()"
   ]
  },
  {
   "cell_type": "code",
   "execution_count": 24,
   "metadata": {},
   "outputs": [
    {
     "data": {
      "text/plain": [
       "Index(['t', 'x_1', 'y_1', 'v_x_1', 'v_y_1', 'x_2', 'y_2', 'v_x_2', 'v_y_2',\n",
       "       'x_3', 'y_3', 'v_x_3', 'v_y_3', 'Id'],\n",
       "      dtype='object')"
      ]
     },
     "execution_count": 24,
     "metadata": {},
     "output_type": "execute_result"
    }
   ],
   "source": [
    "df.columns"
   ]
  },
  {
   "cell_type": "code",
   "execution_count": 15,
   "metadata": {},
   "outputs": [
    {
     "data": {
      "text/html": [
       "<div>\n",
       "<style scoped>\n",
       "    .dataframe tbody tr th:only-of-type {\n",
       "        vertical-align: middle;\n",
       "    }\n",
       "\n",
       "    .dataframe tbody tr th {\n",
       "        vertical-align: top;\n",
       "    }\n",
       "\n",
       "    .dataframe thead th {\n",
       "        text-align: right;\n",
       "    }\n",
       "</style>\n",
       "<table border=\"1\" class=\"dataframe\">\n",
       "  <thead>\n",
       "    <tr style=\"text-align: right;\">\n",
       "      <th></th>\n",
       "      <th>Id</th>\n",
       "      <th>t</th>\n",
       "      <th>x0_1</th>\n",
       "      <th>y0_1</th>\n",
       "      <th>x0_2</th>\n",
       "      <th>y0_2</th>\n",
       "      <th>x0_3</th>\n",
       "      <th>y0_3</th>\n",
       "    </tr>\n",
       "  </thead>\n",
       "  <tbody>\n",
       "    <tr>\n",
       "      <th>count</th>\n",
       "      <td>1.041621e+06</td>\n",
       "      <td>1.041621e+06</td>\n",
       "      <td>1041621.0</td>\n",
       "      <td>1041621.0</td>\n",
       "      <td>1.041621e+06</td>\n",
       "      <td>1.041621e+06</td>\n",
       "      <td>1.041621e+06</td>\n",
       "      <td>1.041621e+06</td>\n",
       "    </tr>\n",
       "    <tr>\n",
       "      <th>mean</th>\n",
       "      <td>5.208100e+05</td>\n",
       "      <td>5.000000e+00</td>\n",
       "      <td>1.0</td>\n",
       "      <td>0.0</td>\n",
       "      <td>-2.309950e-01</td>\n",
       "      <td>5.144233e-01</td>\n",
       "      <td>-7.690050e-01</td>\n",
       "      <td>-5.144233e-01</td>\n",
       "    </tr>\n",
       "    <tr>\n",
       "      <th>std</th>\n",
       "      <td>3.006902e+05</td>\n",
       "      <td>2.898007e+00</td>\n",
       "      <td>0.0</td>\n",
       "      <td>0.0</td>\n",
       "      <td>1.375241e-01</td>\n",
       "      <td>2.545084e-01</td>\n",
       "      <td>1.375241e-01</td>\n",
       "      <td>2.545084e-01</td>\n",
       "    </tr>\n",
       "    <tr>\n",
       "      <th>min</th>\n",
       "      <td>0.000000e+00</td>\n",
       "      <td>0.000000e+00</td>\n",
       "      <td>1.0</td>\n",
       "      <td>0.0</td>\n",
       "      <td>-4.979092e-01</td>\n",
       "      <td>6.846025e-03</td>\n",
       "      <td>-9.998843e-01</td>\n",
       "      <td>-9.657217e-01</td>\n",
       "    </tr>\n",
       "    <tr>\n",
       "      <th>25%</th>\n",
       "      <td>2.604050e+05</td>\n",
       "      <td>2.500000e+00</td>\n",
       "      <td>1.0</td>\n",
       "      <td>0.0</td>\n",
       "      <td>-3.459596e-01</td>\n",
       "      <td>3.036559e-01</td>\n",
       "      <td>-8.892568e-01</td>\n",
       "      <td>-7.371673e-01</td>\n",
       "    </tr>\n",
       "    <tr>\n",
       "      <th>50%</th>\n",
       "      <td>5.208100e+05</td>\n",
       "      <td>5.000000e+00</td>\n",
       "      <td>1.0</td>\n",
       "      <td>0.0</td>\n",
       "      <td>-2.293032e-01</td>\n",
       "      <td>5.175921e-01</td>\n",
       "      <td>-7.706968e-01</td>\n",
       "      <td>-5.175921e-01</td>\n",
       "    </tr>\n",
       "    <tr>\n",
       "      <th>75%</th>\n",
       "      <td>7.812150e+05</td>\n",
       "      <td>7.500000e+00</td>\n",
       "      <td>1.0</td>\n",
       "      <td>0.0</td>\n",
       "      <td>-1.107432e-01</td>\n",
       "      <td>7.371673e-01</td>\n",
       "      <td>-6.540404e-01</td>\n",
       "      <td>-3.036559e-01</td>\n",
       "    </tr>\n",
       "    <tr>\n",
       "      <th>max</th>\n",
       "      <td>1.041620e+06</td>\n",
       "      <td>1.000000e+01</td>\n",
       "      <td>1.0</td>\n",
       "      <td>0.0</td>\n",
       "      <td>-1.157003e-04</td>\n",
       "      <td>9.657217e-01</td>\n",
       "      <td>-5.020908e-01</td>\n",
       "      <td>-6.846025e-03</td>\n",
       "    </tr>\n",
       "  </tbody>\n",
       "</table>\n",
       "</div>"
      ],
      "text/plain": [
       "                 Id             t       x0_1       y0_1          x0_2  \\\n",
       "count  1.041621e+06  1.041621e+06  1041621.0  1041621.0  1.041621e+06   \n",
       "mean   5.208100e+05  5.000000e+00        1.0        0.0 -2.309950e-01   \n",
       "std    3.006902e+05  2.898007e+00        0.0        0.0  1.375241e-01   \n",
       "min    0.000000e+00  0.000000e+00        1.0        0.0 -4.979092e-01   \n",
       "25%    2.604050e+05  2.500000e+00        1.0        0.0 -3.459596e-01   \n",
       "50%    5.208100e+05  5.000000e+00        1.0        0.0 -2.293032e-01   \n",
       "75%    7.812150e+05  7.500000e+00        1.0        0.0 -1.107432e-01   \n",
       "max    1.041620e+06  1.000000e+01        1.0        0.0 -1.157003e-04   \n",
       "\n",
       "               y0_2          x0_3          y0_3  \n",
       "count  1.041621e+06  1.041621e+06  1.041621e+06  \n",
       "mean   5.144233e-01 -7.690050e-01 -5.144233e-01  \n",
       "std    2.545084e-01  1.375241e-01  2.545084e-01  \n",
       "min    6.846025e-03 -9.998843e-01 -9.657217e-01  \n",
       "25%    3.036559e-01 -8.892568e-01 -7.371673e-01  \n",
       "50%    5.175921e-01 -7.706968e-01 -5.175921e-01  \n",
       "75%    7.371673e-01 -6.540404e-01 -3.036559e-01  \n",
       "max    9.657217e-01 -5.020908e-01 -6.846025e-03  "
      ]
     },
     "execution_count": 15,
     "metadata": {},
     "output_type": "execute_result"
    }
   ],
   "source": [
    "# Some statistics about the data\n",
    "df.describe()"
   ]
  },
  {
   "cell_type": "markdown",
   "metadata": {},
   "source": [
    "## Some Visualizations"
   ]
  },
  {
   "cell_type": "code",
   "execution_count": 28,
   "metadata": {},
   "outputs": [
    {
     "data": {
      "text/plain": [
       "((4054,), np.float64(0.0), np.float64(10.0))"
      ]
     },
     "execution_count": 28,
     "metadata": {},
     "output_type": "execute_result"
    }
   ],
   "source": [
    "idx = np.hstack((0, df[df.t == 10].index.values +1))\n",
    "idx.shape, df.t.min(), df.t.max()"
   ]
  },
  {
   "cell_type": "code",
   "execution_count": 49,
   "metadata": {},
   "outputs": [],
   "source": [
    "def plot_indx(k):\n",
    "    \"\"\"Given an index k, prints the respective trajetories\n",
    "\n",
    "    Parameters\n",
    "    ----------\n",
    "    k : int\n",
    "        The row of the trajetory\n",
    "\n",
    "    \"\"\"\n",
    "    print(k) # The index being used\n",
    "    pltidx = range(idx[k], 257+idx[k])\n",
    "    pltsquare = idx[k]\n",
    "\n",
    "    # Plot the tragetories\n",
    "    plt.plot(df.x_1[pltidx], df.y_1[pltidx])\n",
    "    plt.plot(df.x_2[pltidx], df.y_2[pltidx])\n",
    "    plt.plot(df.x_3[pltidx], df.y_3[pltidx])\n",
    "\n",
    "    # Plot the initial positions\n",
    "    plt.plot(df.x_1[pltsquare], df.y_1[pltsquare], 's')\n",
    "    plt.plot(df.x_2[pltsquare], df.y_2[pltsquare], 's')\n",
    "    plt.plot(df.x_3[pltsquare], df.y_3[pltsquare], 's')\n",
    "\n",
    "    plt.show()"
   ]
  },
  {
   "cell_type": "code",
   "execution_count": 56,
   "metadata": {},
   "outputs": [
    {
     "name": "stdout",
     "output_type": "stream",
     "text": [
      "3863\n"
     ]
    },
    {
     "data": {
      "image/png": "[encoded data removed]",
      "text/plain": [
       "<Figure size 640x480 with 1 Axes>"
      ]
     },
     "metadata": {},
     "output_type": "display_data"
    }
   ],
   "source": [
    "# Selecting a random index from the dataset\n",
    "k = np.random.randint(idx.shape[0])\n",
    "plot_indx(k)"
   ]
  },
  {
   "cell_type": "markdown",
   "metadata": {},
   "source": [
    "### Colisions:\n",
    "When the 3 objects collide, we obtain a lot of sets of zero up to time 10. These block of zeros are meaningless"
   ]
  },
  {
   "cell_type": "code",
   "execution_count": 57,
   "metadata": {},
   "outputs": [
    {
     "name": "stdout",
     "output_type": "stream",
     "text": [
      "2105\n"
     ]
    },
    {
     "data": {
      "image/png": "[encoded data removed]",
      "text/plain": [
       "<Figure size 640x480 with 1 Axes>"
      ]
     },
     "metadata": {},
     "output_type": "display_data"
    }
   ],
   "source": [
    "# Plotting a colision\n",
    "k = 2105\n",
    "plot_indx(k)"
   ]
  }
 ],
 "metadata": {
  "kernelspec": {
   "display_name": "venv",
   "language": "python",
   "name": "python3"
  },
  "language_info": {
   "codemirror_mode": {
    "name": "ipython",
    "version": 3
   },
   "file_extension": ".py",
   "mimetype": "text/x-python",
   "name": "python",
   "nbconvert_exporter": "python",
   "pygments_lexer": "ipython3",
   "version": "3.12.6"
  }
 },
 "nbformat": 4,
 "nbformat_minor": 2
}
