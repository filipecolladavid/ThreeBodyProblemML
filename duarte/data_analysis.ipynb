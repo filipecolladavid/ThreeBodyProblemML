{
 "cells": [
  {
   "cell_type": "code",
   "execution_count": 1,
   "metadata": {},
   "outputs": [],
   "source": [
    "import numpy as np\n",
    "import pandas as pd\n",
    "import matplotlib.pyplot as plt"
   ]
  },
  {
   "cell_type": "markdown",
   "metadata": {},
   "source": [
    "## Information about the dataset\n",
    "X_train data: <br>\n",
    "| Variable  | Description                                      |\n",
    "|-----------|--------------------------------------------------|\n",
    "| `t`       | timestep                                         |\n",
    "| `x_1`     | coordinate x of the position of object 1         |\n",
    "| `y_1`     | coordinate y of the position of object 1         |\n",
    "| `v_x_1`   | coordinate x of the velocity of object 1         |\n",
    "| `v_y_1`   | coordinate y of the velocity of object 1         |\n",
    "| `x_2`     | coordinate x of the position of object 2         |\n",
    "| `y_2`     | coordinate y of the position of object 2         |\n",
    "| `v_x_2`   | coordinate x of the velocity of object 2         |\n",
    "| `v_y_2`   | coordinate y of the velocity of object 2         |\n",
    "| `x_3`     | coordinate x of the position of object 3         |\n",
    "| `y_3`     | coordinate y of the position of object 3         |\n",
    "| `v_x_3`   | coordinate x of the velocity of object 3         |\n",
    "| `v_y_3`   | coordinate y of the velocity of object 3         |\n",
    "\n",
    "X_test data:<br>\n",
    "\n",
    "| Variable  | Description                                                    |\n",
    "|-----------|----------------------------------------------------------------|\n",
    "| `t`       | timestep                                                       |\n",
    "| `x0_1`    | coordinate x of the position of object 1 at time t=0           |\n",
    "| `y0_1`    | coordinate y of the position of object 1 at time t=0           |\n",
    "| `x0_2`    | coordinate x of the position of object 2 at time t=0           |\n",
    "| `y0_2`    | coordinate y of the position of object 2 at time t=0           |\n",
    "| `x0_3`    | coordinate x of the position of object 3 at time t=0           |\n",
    "| `y0_3`    | coordinate y of the position of object 3 at time t=0           |\n",
    "\n",
    "For the test data, we only have the initial positions, and we assume that the initial velocity is zero"
   ]
  },
  {
   "cell_type": "code",
   "execution_count": 2,
   "metadata": {},
   "outputs": [],
   "source": [
    "import matplotlib.pyplot as plt\n",
    "import numpy as np\n",
    "import pandas as pd\n",
    "from sklearn.metrics import mean_squared_error\n",
    "from sklearn.model_selection import train_test_split\n",
    "from sklearn.preprocessing import StandardScaler\n",
    "from sklearn.preprocessing import PolynomialFeatures\n",
    "from sklearn.pipeline import make_pipeline\n",
    "from sklearn.linear_model import LinearRegression\n",
    "from sklearn.linear_model import Ridge, RidgeCV\n",
    "from sklearn.compose import ColumnTransformer\n",
    "import time"
   ]
  },
  {
   "cell_type": "code",
   "execution_count": 7,
   "metadata": {},
   "outputs": [],
   "source": [
    "trainSet = pd.read_csv(\"../data/mlNOVA/mlNOVA/X_train.csv\")"
   ]
  },
  {
   "cell_type": "code",
   "execution_count": 8,
   "metadata": {},
   "outputs": [
    {
     "data": {
      "text/html": [
       "<div>\n",
       "<style scoped>\n",
       "    .dataframe tbody tr th:only-of-type {\n",
       "        vertical-align: middle;\n",
       "    }\n",
       "\n",
       "    .dataframe tbody tr th {\n",
       "        vertical-align: top;\n",
       "    }\n",
       "\n",
       "    .dataframe thead th {\n",
       "        text-align: right;\n",
       "    }\n",
       "</style>\n",
       "<table border=\"1\" class=\"dataframe\">\n",
       "  <thead>\n",
       "    <tr style=\"text-align: right;\">\n",
       "      <th></th>\n",
       "      <th>t</th>\n",
       "      <th>x_1</th>\n",
       "      <th>y_1</th>\n",
       "      <th>v_x_1</th>\n",
       "      <th>v_y_1</th>\n",
       "      <th>x_2</th>\n",
       "      <th>y_2</th>\n",
       "      <th>v_x_2</th>\n",
       "      <th>v_y_2</th>\n",
       "      <th>x_3</th>\n",
       "      <th>y_3</th>\n",
       "      <th>v_x_3</th>\n",
       "      <th>v_y_3</th>\n",
       "      <th>Id</th>\n",
       "    </tr>\n",
       "  </thead>\n",
       "  <tbody>\n",
       "    <tr>\n",
       "      <th>0</th>\n",
       "      <td>0.000000</td>\n",
       "      <td>1.000000</td>\n",
       "      <td>0.000000</td>\n",
       "      <td>0.000000</td>\n",
       "      <td>0.000000</td>\n",
       "      <td>-0.266467</td>\n",
       "      <td>0.859196</td>\n",
       "      <td>0.000000</td>\n",
       "      <td>0.000000</td>\n",
       "      <td>-0.733533</td>\n",
       "      <td>-0.859196</td>\n",
       "      <td>0.000000</td>\n",
       "      <td>0.000000</td>\n",
       "      <td>0</td>\n",
       "    </tr>\n",
       "    <tr>\n",
       "      <th>1</th>\n",
       "      <td>0.039062</td>\n",
       "      <td>0.999548</td>\n",
       "      <td>0.000092</td>\n",
       "      <td>-0.023159</td>\n",
       "      <td>0.004731</td>\n",
       "      <td>-0.266261</td>\n",
       "      <td>0.858781</td>\n",
       "      <td>0.010574</td>\n",
       "      <td>-0.021257</td>\n",
       "      <td>-0.733287</td>\n",
       "      <td>-0.858874</td>\n",
       "      <td>0.012584</td>\n",
       "      <td>0.016526</td>\n",
       "      <td>1</td>\n",
       "    </tr>\n",
       "    <tr>\n",
       "      <th>2</th>\n",
       "      <td>0.078125</td>\n",
       "      <td>0.998190</td>\n",
       "      <td>0.000370</td>\n",
       "      <td>-0.046362</td>\n",
       "      <td>0.009474</td>\n",
       "      <td>-0.265641</td>\n",
       "      <td>0.857535</td>\n",
       "      <td>0.021172</td>\n",
       "      <td>-0.042552</td>\n",
       "      <td>-0.732549</td>\n",
       "      <td>-0.857905</td>\n",
       "      <td>0.025189</td>\n",
       "      <td>0.033078</td>\n",
       "      <td>2</td>\n",
       "    </tr>\n",
       "    <tr>\n",
       "      <th>3</th>\n",
       "      <td>0.117188</td>\n",
       "      <td>0.995925</td>\n",
       "      <td>0.000833</td>\n",
       "      <td>-0.069654</td>\n",
       "      <td>0.014239</td>\n",
       "      <td>-0.264606</td>\n",
       "      <td>0.855456</td>\n",
       "      <td>0.031817</td>\n",
       "      <td>-0.063924</td>\n",
       "      <td>-0.731318</td>\n",
       "      <td>-0.856289</td>\n",
       "      <td>0.037837</td>\n",
       "      <td>0.049685</td>\n",
       "      <td>3</td>\n",
       "    </tr>\n",
       "    <tr>\n",
       "      <th>4</th>\n",
       "      <td>0.156250</td>\n",
       "      <td>0.992747</td>\n",
       "      <td>0.001483</td>\n",
       "      <td>-0.093080</td>\n",
       "      <td>0.019040</td>\n",
       "      <td>-0.263154</td>\n",
       "      <td>0.852540</td>\n",
       "      <td>0.042533</td>\n",
       "      <td>-0.085412</td>\n",
       "      <td>-0.729592</td>\n",
       "      <td>-0.854022</td>\n",
       "      <td>0.050548</td>\n",
       "      <td>0.066372</td>\n",
       "      <td>4</td>\n",
       "    </tr>\n",
       "  </tbody>\n",
       "</table>\n",
       "</div>"
      ],
      "text/plain": [
       "          t       x_1       y_1     v_x_1     v_y_1       x_2       y_2  \\\n",
       "0  0.000000  1.000000  0.000000  0.000000  0.000000 -0.266467  0.859196   \n",
       "1  0.039062  0.999548  0.000092 -0.023159  0.004731 -0.266261  0.858781   \n",
       "2  0.078125  0.998190  0.000370 -0.046362  0.009474 -0.265641  0.857535   \n",
       "3  0.117188  0.995925  0.000833 -0.069654  0.014239 -0.264606  0.855456   \n",
       "4  0.156250  0.992747  0.001483 -0.093080  0.019040 -0.263154  0.852540   \n",
       "\n",
       "      v_x_2     v_y_2       x_3       y_3     v_x_3     v_y_3  Id  \n",
       "0  0.000000  0.000000 -0.733533 -0.859196  0.000000  0.000000   0  \n",
       "1  0.010574 -0.021257 -0.733287 -0.858874  0.012584  0.016526   1  \n",
       "2  0.021172 -0.042552 -0.732549 -0.857905  0.025189  0.033078   2  \n",
       "3  0.031817 -0.063924 -0.731318 -0.856289  0.037837  0.049685   3  \n",
       "4  0.042533 -0.085412 -0.729592 -0.854022  0.050548  0.066372   4  "
      ]
     },
     "execution_count": 8,
     "metadata": {},
     "output_type": "execute_result"
    }
   ],
   "source": [
    "trainSet.head()"
   ]
  },
  {
   "cell_type": "code",
   "execution_count": 9,
   "metadata": {},
   "outputs": [
    {
     "data": {
      "text/plain": [
       "(Index(['t', 'x_1', 'y_1', 'v_x_1', 'v_y_1', 'x_2', 'y_2', 'v_x_2', 'v_y_2',\n",
       "        'x_3', 'y_3', 'v_x_3', 'v_y_3', 'Id'],\n",
       "       dtype='object'),)"
      ]
     },
     "execution_count": 9,
     "metadata": {},
     "output_type": "execute_result"
    }
   ],
   "source": [
    "trainSet.columns,"
   ]
  },
  {
   "cell_type": "markdown",
   "metadata": {},
   "source": [
    "This code filters rows in a dataset where a column (`t`) has the value 10, grabs the row numbers, adds 1 to each of them, and combines them with a starting `0`. The result is a list of these modified row numbers. Then, it checks how many items are in the list (`idx.shape`) and finds the smallest and largest values in the `t` column of the original dataset."
   ]
  },
  {
   "cell_type": "code",
   "execution_count": 15,
   "metadata": {},
   "outputs": [
    {
     "data": {
      "text/plain": [
       "((4054,), np.float64(0.0), np.float64(10.0))"
      ]
     },
     "execution_count": 15,
     "metadata": {},
     "output_type": "execute_result"
    }
   ],
   "source": [
    "idx = np.hstack((0,trainSet[trainSet.t ==10].index.values +1))\n",
    "idx.shape, trainSet.t.min(), trainSet.t.max()"
   ]
  },
  {
   "cell_type": "markdown",
   "metadata": {},
   "source": [
    "This code randomly selects an index (`k`) from the `idx` list, then creates a range of values starting from the selected index to plot a slice of data from the dataset columns (`x_1`, `y_1`, `x_2`, `y_2`, etc.). It plots three different sets of data (`x_1/y_1`, `x_2/y_2`, and `x_3/y_3`) over this range, and highlights a single point from each set at the selected index with square markers. The overall goal is to visualize parts of the data series, focusing on a specific point marked with squares."
   ]
  },
  {
   "cell_type": "code",
   "execution_count": 47,
   "metadata": {},
   "outputs": [
    {
     "name": "stdout",
     "output_type": "stream",
     "text": [
      "2146\n"
     ]
    },
    {
     "data": {
      "text/plain": [
       "[<matplotlib.lines.Line2D at 0x2a904b93ec0>]"
      ]
     },
     "execution_count": 47,
     "metadata": {},
     "output_type": "execute_result"
    },
    {
     "data": {
      "image/png": "[encoded data removed]",
      "text/plain": [
       "<Figure size 640x480 with 1 Axes>"
      ]
     },
     "metadata": {},
     "output_type": "display_data"
    }
   ],
   "source": [
    "k = np.random.randint(idx.shape[0])\n",
    "print(k)\n",
    "pltidx = range(idx[k] , 257+idx[k])\n",
    "pltsquare = idx[k]\n",
    "plt.plot(trainSet.x_1[pltidx], trainSet.y_1[pltidx])\n",
    "plt.plot(trainSet.x_2[pltidx], trainSet.y_2[pltidx])\n",
    "plt.plot(trainSet.x_3[pltidx], trainSet.y_3[pltidx])\n",
    "\n",
    "plt.plot(trainSet.x_1[pltsquare], trainSet.y_1[pltsquare], 's')\n",
    "plt.plot(trainSet.x_2[pltsquare], trainSet.y_2[pltsquare], 's')\n",
    "plt.plot(trainSet.x_3[pltsquare], trainSet.y_3[pltsquare], 's')"
   ]
  }
 ],
 "metadata": {
  "kernelspec": {
   "display_name": ".venv",
   "language": "python",
   "name": "python3"
  },
  "language_info": {
   "codemirror_mode": {
    "name": "ipython",
    "version": 3
   },
   "file_extension": ".py",
   "mimetype": "text/x-python",
   "name": "python",
   "nbconvert_exporter": "python",
   "pygments_lexer": "ipython3",
   "version": "3.12.0"
  }
 },
 "nbformat": 4,
 "nbformat_minor": 2
}
